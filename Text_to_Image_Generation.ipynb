{
  "nbformat": 4,
  "nbformat_minor": 0,
  "metadata": {
    "colab": {
      "provenance": [],
      "gpuType": "T4"
    },
    "kernelspec": {
      "name": "python3",
      "display_name": "Python 3"
    },
    "language_info": {
      "name": "python"
    },
    "accelerator": "GPU"
  },
  "cells": [
    {
      "cell_type": "code",
      "execution_count": null,
      "metadata": {
        "id": "WmEl8aO99QRY"
      },
      "outputs": [],
      "source": [
        "#Text-to-Image Generation using Stable Diffusion and Diffusers\n",
        "!pip install diffusers transformers accelerate"
      ]
    },
    {
      "cell_type": "code",
      "source": [
        "from diffusers import StableDiffusionPipeline\n",
        "import matplotlib.pyplot as plt\n",
        "import torch"
      ],
      "metadata": {
        "id": "fFrHgX5D9dFq"
      },
      "execution_count": null,
      "outputs": []
    },
    {
      "cell_type": "code",
      "source": [
        "!pip show torch"
      ],
      "metadata": {
        "id": "ug_rRb7E9dDB"
      },
      "execution_count": null,
      "outputs": []
    },
    {
      "cell_type": "code",
      "source": [
        "model_id1 = \"dreamlike-art/dreamlike-diffusion-1.0\"\n",
        "pipe = StableDiffusionPipeline.from_pretrained(model_id1, torch_dtype=torch.float16, use_safetensors=True)\n",
        "pipe = pipe.to(\"cuda\")"
      ],
      "metadata": {
        "id": "ACllX-0I9c_2"
      },
      "execution_count": null,
      "outputs": []
    },
    {
      "cell_type": "code",
      "source": [
        "prompt = \"\"\"dreamlikeart, a grungy woman with rainbow hair, travelling between dimensions, dynamic pose, happy, soft eyes and narrow chin,\n",
        "extreme bokeh, dainty figure, long hair straight down, torn kawaii shirt and baggy jeans\n",
        "\"\"\"\n",
        "\n",
        "image = pipe(prompt).images[0]\n",
        "\n",
        "image"
      ],
      "metadata": {
        "id": "feJzO6D99c88"
      },
      "execution_count": null,
      "outputs": []
    },
    {
      "cell_type": "code",
      "source": [
        "prompt2 = \"\"\"A girl is sittig on a chair & She is accompanied by her tiger. Make sure to keep it cinematic\n",
        "\"\"\"\n",
        "\n",
        "image = pipe(prompt2).images[0]"
      ],
      "metadata": {
        "id": "GoYYS10F9c3t"
      },
      "execution_count": null,
      "outputs": []
    },
    {
      "cell_type": "code",
      "source": [
        "print('[PROMPT]: ',prompt2)\n",
        "plt.imshow(image);\n",
        "plt.axis('off');"
      ],
      "metadata": {
        "id": "NOXSu-YC9c1G"
      },
      "execution_count": null,
      "outputs": []
    },
    {
      "cell_type": "code",
      "source": [
        "#Working with Stable Diffusion parameters :\n",
        "#num_inference_steps\n",
        "#height\n",
        "#weight\n",
        "#num_images_per_prompt\n",
        "\n",
        "def generate_image(pipe, prompt, params):\n",
        "  img = pipe(prompt, **params).images\n",
        "\n",
        "  num_images = len(img)\n",
        "  if num_images>1:\n",
        "    fig, ax = plt.subplots(nrows=1, ncols=num_images)\n",
        "    for i in range(num_images):\n",
        "      ax[i].imshow(img[i]);\n",
        "      ax[i].axis('off');\n",
        "\n",
        "  else:\n",
        "    fig = plt.figure()\n",
        "    plt.imshow(img[0]);\n",
        "    plt.axis('off');\n",
        "  plt.tight_layout()"
      ],
      "metadata": {
        "id": "qIgiiIis-B1B"
      },
      "execution_count": null,
      "outputs": []
    },
    {
      "cell_type": "code",
      "source": [
        "prompt = \"dreamlike, beautiful girl enjoying the Eid festival, draped in traditional Bangladeshi attire\"\n",
        "\n",
        "params = {}\n",
        "\n",
        "generate_image(pipe, prompt, params)"
      ],
      "metadata": {
        "id": "XBAGOEQj-Dyi"
      },
      "execution_count": null,
      "outputs": []
    },
    {
      "cell_type": "code",
      "source": [
        "#num inference steps\n",
        "params = {'num_inference_steps': 100}\n",
        "\n",
        "generate_image(pipe, prompt, params)"
      ],
      "metadata": {
        "id": "VrquHa_O-Dv6"
      },
      "execution_count": null,
      "outputs": []
    },
    {
      "cell_type": "code",
      "source": [
        "#height width\n",
        "params = {'num_inference_steps': 100, 'width': 512, 'height': int(1.5*640)}\n",
        "\n",
        "generate_image(pipe, prompt, params)"
      ],
      "metadata": {
        "id": "a3WDuieO-Ds-"
      },
      "execution_count": null,
      "outputs": []
    },
    {
      "cell_type": "code",
      "source": [
        "#num_images_per_prompt\n",
        "params = {'num_inference_steps': 100, 'num_images_per_prompt': 2}\n",
        "\n",
        "generate_image(pipe, prompt, params)"
      ],
      "metadata": {
        "id": "AGlXV0Ju-TlH"
      },
      "execution_count": null,
      "outputs": []
    }
  ]
}